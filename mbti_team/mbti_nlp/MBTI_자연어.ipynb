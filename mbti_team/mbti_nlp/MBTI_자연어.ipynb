{
 "cells": [
  {
   "cell_type": "markdown",
   "metadata": {
    "id": "OmM6p04nMMvR"
   },
   "source": [
    "# 마지막은 오늘의 집에서 스타일 보고 정리"
   ]
  },
  {
   "cell_type": "code",
   "execution_count": 1,
   "metadata": {
    "colab": {
     "base_uri": "https://localhost:8080/"
    },
    "executionInfo": {
     "elapsed": 5851,
     "status": "ok",
     "timestamp": 1640568814936,
     "user": {
      "displayName": "용범",
      "photoUrl": "https://lh3.googleusercontent.com/a-/AOh14GiaZUHR2vehy-Jvi5j9KzPDwZAzaDiwXi5hKWbC=s64",
      "userId": "03054817850247331452"
     },
     "user_tz": -540
    },
    "id": "1iHOZiuujsYr",
    "outputId": "2fa68328-b426-467c-a47b-b73c150bd078"
   },
   "outputs": [],
   "source": [
    "# !pip install konlpy"
   ]
  },
  {
   "cell_type": "code",
   "execution_count": 2,
   "metadata": {
    "executionInfo": {
     "elapsed": 242,
     "status": "ok",
     "timestamp": 1640568904733,
     "user": {
      "displayName": "용범",
      "photoUrl": "https://lh3.googleusercontent.com/a-/AOh14GiaZUHR2vehy-Jvi5j9KzPDwZAzaDiwXi5hKWbC=s64",
      "userId": "03054817850247331452"
     },
     "user_tz": -540
    },
    "id": "lnZ2zvLNjz0y"
   },
   "outputs": [],
   "source": [
    "from konlpy.tag import Okt\n",
    "from collections import Counter"
   ]
  },
  {
   "cell_type": "code",
   "execution_count": 3,
   "metadata": {
    "colab": {
     "base_uri": "https://localhost:8080/"
    },
    "executionInfo": {
     "elapsed": 1387,
     "status": "ok",
     "timestamp": 1640568816704,
     "user": {
      "displayName": "용범",
      "photoUrl": "https://lh3.googleusercontent.com/a-/AOh14GiaZUHR2vehy-Jvi5j9KzPDwZAzaDiwXi5hKWbC=s64",
      "userId": "03054817850247331452"
     },
     "user_tz": -540
    },
    "id": "k2r_tdiuj1It",
    "outputId": "762688ae-4380-42bc-dd70-06b9a4e56db1"
   },
   "outputs": [
    {
     "data": {
      "text/plain": [
       "<konlpy.tag._okt.Okt at 0x7fa7b5496940>"
      ]
     },
     "execution_count": 3,
     "metadata": {},
     "output_type": "execute_result"
    }
   ],
   "source": [
    "okt = Okt()\n",
    "okt"
   ]
  },
  {
   "cell_type": "code",
   "execution_count": 4,
   "metadata": {
    "executionInfo": {
     "elapsed": 2,
     "status": "ok",
     "timestamp": 1640568816704,
     "user": {
      "displayName": "용범",
      "photoUrl": "https://lh3.googleusercontent.com/a-/AOh14GiaZUHR2vehy-Jvi5j9KzPDwZAzaDiwXi5hKWbC=s64",
      "userId": "03054817850247331452"
     },
     "user_tz": -540
    },
    "id": "Te0GqWH5EsM-"
   },
   "outputs": [],
   "source": [
    "stopwords = ['테이블','집','집들이','카페','인테리어','스탠드','증정','세트','이벤트','터치','전구','원형',\n",
    "             '인','제','벽','공간','컬러','홈','저','것','이불','종','의자','커버','쿠폰','베개','시즌',\n",
    "             '오프','온라인','판매','사진','달','블루투스','단독','개월','더','단','신고','전','때','방',\n",
    "             '셀프','곡목','패','밀도','오늘','브릭','홀더','스피커','보','답글','달기','보이드','시간',\n",
    "             '옷','서랍','일러스트','정말','층','고객','포장','전신','평','취향','큐브','수납','사이드',\n",
    "             '원룸','오브','선물','등록','수','레이스','자취','안','체크','위','꼭꼬핀','선반','등','조화',\n",
    "             '그림','하나','생각','안심','파도','이','침대','느낌','함','상품','침구','걸이','그','나',\n",
    "             '문의','버킷','소품','라디오','전체','기분','시계','고민','사용','제품','주','애슐리','해외',\n",
    "             '생활','주방','일','거실','가구','해','리스','소개','옷장','받침','취미','접이식','캐비넷',\n",
    "             '레이크','작업','모듈','데','모니터','시작','데스크','독일','편이','걸','할인','구매','물',\n",
    "             '아겐','체어','노르','콘솔','책','활용','일링','아이','거','모습','게','현관','침실','수전',\n",
    "             '용','나비','후','바로','인용','주름','확장','때문','쉬폰','앞','빔','를','트','도톰','포함',\n",
    "             '책장','도','이용','로','트리','아기','정리','식탁','매트','박스','팬','펜','저희','시공',\n",
    "             '장난감']"
   ]
  },
  {
   "cell_type": "markdown",
   "metadata": {
    "id": "3vFjfasQjCbP"
   },
   "source": [
    "# ESTJ"
   ]
  },
  {
   "cell_type": "code",
   "execution_count": 5,
   "metadata": {
    "colab": {
     "base_uri": "https://localhost:8080/"
    },
    "executionInfo": {
     "elapsed": 599,
     "status": "ok",
     "timestamp": 1640569225948,
     "user": {
      "displayName": "용범",
      "photoUrl": "https://lh3.googleusercontent.com/a-/AOh14GiaZUHR2vehy-Jvi5j9KzPDwZAzaDiwXi5hKWbC=s64",
      "userId": "03054817850247331452"
     },
     "user_tz": -540
    },
    "id": "o2CKhwIiia73",
    "outputId": "901a171f-d639-4079-edea-aac367a5bf6c"
   },
   "outputs": [
    {
     "ename": "FileNotFoundError",
     "evalue": "[Errno 2] No such file or directory: '/content/drive/MyDrive/Colab Notebooks/MBTI프로젝트/ESTJ.txt'",
     "output_type": "error",
     "traceback": [
      "\u001b[0;31m---------------------------------------------------------------------------\u001b[0m",
      "\u001b[0;31mFileNotFoundError\u001b[0m                         Traceback (most recent call last)",
      "\u001b[0;32m<ipython-input-5-530d09aa0aba>\u001b[0m in \u001b[0;36m<module>\u001b[0;34m\u001b[0m\n\u001b[0;32m----> 1\u001b[0;31m \u001b[0mestj_file\u001b[0m \u001b[0;34m=\u001b[0m \u001b[0mopen\u001b[0m\u001b[0;34m(\u001b[0m\u001b[0;34m'/content/drive/MyDrive/Colab Notebooks/MBTI프로젝트/ESTJ.txt'\u001b[0m\u001b[0;34m,\u001b[0m \u001b[0mencoding\u001b[0m\u001b[0;34m=\u001b[0m\u001b[0;34m'utf8'\u001b[0m\u001b[0;34m)\u001b[0m\u001b[0;34m\u001b[0m\u001b[0;34m\u001b[0m\u001b[0m\n\u001b[0m\u001b[1;32m      2\u001b[0m \u001b[0mestj\u001b[0m \u001b[0;34m=\u001b[0m \u001b[0mestj_file\u001b[0m\u001b[0;34m.\u001b[0m\u001b[0mread\u001b[0m\u001b[0;34m(\u001b[0m\u001b[0;34m)\u001b[0m\u001b[0;34m\u001b[0m\u001b[0;34m\u001b[0m\u001b[0m\n\u001b[1;32m      3\u001b[0m \u001b[0;34m\u001b[0m\u001b[0m\n\u001b[1;32m      4\u001b[0m \u001b[0mestj_words\u001b[0m \u001b[0;34m=\u001b[0m \u001b[0mokt\u001b[0m\u001b[0;34m.\u001b[0m\u001b[0mnouns\u001b[0m\u001b[0;34m(\u001b[0m\u001b[0mestj\u001b[0m\u001b[0;34m)\u001b[0m\u001b[0;34m\u001b[0m\u001b[0;34m\u001b[0m\u001b[0m\n\u001b[1;32m      5\u001b[0m \u001b[0;34m\u001b[0m\u001b[0m\n",
      "\u001b[0;31mFileNotFoundError\u001b[0m: [Errno 2] No such file or directory: '/content/drive/MyDrive/Colab Notebooks/MBTI프로젝트/ESTJ.txt'"
     ]
    }
   ],
   "source": [
    "estj_file = open('/content/drive/MyDrive/Colab Notebooks/MBTI프로젝트/ESTJ.txt', encoding='utf8')\n",
    "estj = estj_file.read()\n",
    "\n",
    "estj_words = okt.nouns(estj)\n",
    "\n",
    "estj_count = Counter(estj_words)\n",
    "\n",
    "estj_count.most_common(30)"
   ]
  },
  {
   "cell_type": "code",
   "execution_count": 70,
   "metadata": {
    "executionInfo": {
     "elapsed": 3,
     "status": "ok",
     "timestamp": 1640569225948,
     "user": {
      "displayName": "용범",
      "photoUrl": "https://lh3.googleusercontent.com/a-/AOh14GiaZUHR2vehy-Jvi5j9KzPDwZAzaDiwXi5hKWbC=s64",
      "userId": "03054817850247331452"
     },
     "user_tz": -540
    },
    "id": "ZjksvpuGj9Ia"
   },
   "outputs": [],
   "source": [
    "wordcount = {}\n",
    "# lower 소문자\n",
    "for word in estj_words:  \n",
    "    if word not in stopwords:\n",
    "        if word not in wordcount:\n",
    "            wordcount[word] = 1\n",
    "        else:\n",
    "            wordcount[word] += 1"
   ]
  },
  {
   "cell_type": "code",
   "execution_count": 71,
   "metadata": {
    "colab": {
     "base_uri": "https://localhost:8080/"
    },
    "executionInfo": {
     "elapsed": 2,
     "status": "ok",
     "timestamp": 1640569226196,
     "user": {
      "displayName": "용범",
      "photoUrl": "https://lh3.googleusercontent.com/a-/AOh14GiaZUHR2vehy-Jvi5j9KzPDwZAzaDiwXi5hKWbC=s64",
      "userId": "03054817850247331452"
     },
     "user_tz": -540
    },
    "id": "Pu6upg-Lj-6N",
    "outputId": "98f5cf22-7baf-4080-c360-f5153266ce03"
   },
   "outputs": [
    {
     "data": {
      "text/plain": [
       "[('화이트', 33),\n",
       " ('미니', 19),\n",
       " ('커튼', 15),\n",
       " ('포스터', 15),\n",
       " ('내추럴', 14),\n",
       " ('플라워', 14),\n",
       " ('소파', 13),\n",
       " ('탁상', 12),\n",
       " ('화분', 12),\n",
       " ('식물', 11)]"
      ]
     },
     "execution_count": 71,
     "metadata": {},
     "output_type": "execute_result"
    }
   ],
   "source": [
    "sorted(wordcount.items(), key=lambda x: x[1], reverse=True)[:10]"
   ]
  },
  {
   "cell_type": "markdown",
   "metadata": {
    "id": "FQYdqSz4jWTp"
   },
   "source": [
    "# ISFP"
   ]
  },
  {
   "cell_type": "code",
   "execution_count": 72,
   "metadata": {
    "colab": {
     "base_uri": "https://localhost:8080/"
    },
    "executionInfo": {
     "elapsed": 2282,
     "status": "ok",
     "timestamp": 1640569322765,
     "user": {
      "displayName": "용범",
      "photoUrl": "https://lh3.googleusercontent.com/a-/AOh14GiaZUHR2vehy-Jvi5j9KzPDwZAzaDiwXi5hKWbC=s64",
      "userId": "03054817850247331452"
     },
     "user_tz": -540
    },
    "id": "tzJ8q-vvAdLO",
    "outputId": "5d02a6ea-6a51-4587-cb53-4cc017aedfaa"
   },
   "outputs": [
    {
     "data": {
      "text/plain": [
       "[('공간', 118),\n",
       " ('쿠폰', 100),\n",
       " ('인테리어', 90),\n",
       " ('사용', 83),\n",
       " ('집', 79),\n",
       " ('화이트', 73),\n",
       " ('수', 70),\n",
       " ('제', 67),\n",
       " ('벽', 66),\n",
       " ('아이', 65),\n",
       " ('것', 62),\n",
       " ('방', 62),\n",
       " ('주방', 59),\n",
       " ('저', 58),\n",
       " ('타일', 56),\n",
       " ('조명', 55),\n",
       " ('셀프', 53),\n",
       " ('커버', 53),\n",
       " ('수납', 53),\n",
       " ('커튼', 51),\n",
       " ('테이블', 50),\n",
       " ('시공', 49),\n",
       " ('거실', 48),\n",
       " ('때', 47),\n",
       " ('침대', 46),\n",
       " ('전', 46),\n",
       " ('모듈', 43),\n",
       " ('선반', 42),\n",
       " ('의자', 41),\n",
       " ('욕실', 39)]"
      ]
     },
     "execution_count": 72,
     "metadata": {},
     "output_type": "execute_result"
    }
   ],
   "source": [
    "isfp_file = open('/content/drive/MyDrive/Colab Notebooks/MBTI프로젝트/ISFP.txt', encoding='utf8')\n",
    "isfp = isfp_file.read()\n",
    "\n",
    "isfp_words = okt.nouns(isfp)\n",
    "\n",
    "isfp_count = Counter(isfp_words)\n",
    "\n",
    "isfp_count.most_common(30)"
   ]
  },
  {
   "cell_type": "code",
   "execution_count": 73,
   "metadata": {
    "executionInfo": {
     "elapsed": 7,
     "status": "ok",
     "timestamp": 1640569322766,
     "user": {
      "displayName": "용범",
      "photoUrl": "https://lh3.googleusercontent.com/a-/AOh14GiaZUHR2vehy-Jvi5j9KzPDwZAzaDiwXi5hKWbC=s64",
      "userId": "03054817850247331452"
     },
     "user_tz": -540
    },
    "id": "xn5nTJf7B4aO"
   },
   "outputs": [],
   "source": [
    "wordcount = {}\n",
    "# lower 소문자\n",
    "for word in isfp_words:  \n",
    "    if word not in stopwords:\n",
    "        if word not in wordcount:\n",
    "            wordcount[word] = 1\n",
    "        else:\n",
    "            wordcount[word] += 1"
   ]
  },
  {
   "cell_type": "code",
   "execution_count": 74,
   "metadata": {
    "colab": {
     "base_uri": "https://localhost:8080/"
    },
    "executionInfo": {
     "elapsed": 6,
     "status": "ok",
     "timestamp": 1640569322766,
     "user": {
      "displayName": "용범",
      "photoUrl": "https://lh3.googleusercontent.com/a-/AOh14GiaZUHR2vehy-Jvi5j9KzPDwZAzaDiwXi5hKWbC=s64",
      "userId": "03054817850247331452"
     },
     "user_tz": -540
    },
    "id": "7vdttuqRB6Qo",
    "outputId": "15632050-ab58-415f-ea25-4148dac3184d"
   },
   "outputs": [
    {
     "data": {
      "text/plain": [
       "[('화이트', 73),\n",
       " ('타일', 56),\n",
       " ('조명', 55),\n",
       " ('커튼', 51),\n",
       " ('욕실', 39),\n",
       " ('미니', 36),\n",
       " ('스툴', 32),\n",
       " ('배치', 31),\n",
       " ('러그', 29),\n",
       " ('스위치', 27)]"
      ]
     },
     "execution_count": 74,
     "metadata": {},
     "output_type": "execute_result"
    }
   ],
   "source": [
    "sorted(wordcount.items(), key=lambda x: x[1], reverse=True)[:10]"
   ]
  },
  {
   "cell_type": "markdown",
   "metadata": {
    "id": "ZDMJVkF5js4d"
   },
   "source": [
    "# INFP"
   ]
  },
  {
   "cell_type": "code",
   "execution_count": 75,
   "metadata": {
    "colab": {
     "base_uri": "https://localhost:8080/"
    },
    "executionInfo": {
     "elapsed": 2310,
     "status": "ok",
     "timestamp": 1640569388361,
     "user": {
      "displayName": "용범",
      "photoUrl": "https://lh3.googleusercontent.com/a-/AOh14GiaZUHR2vehy-Jvi5j9KzPDwZAzaDiwXi5hKWbC=s64",
      "userId": "03054817850247331452"
     },
     "user_tz": -540
    },
    "id": "UOjC0vKtD3p-",
    "outputId": "5aafc9b3-344e-4fef-edac-0ce11372c608"
   },
   "outputs": [
    {
     "data": {
      "text/plain": [
       "[('집', 89),\n",
       " ('공간', 84),\n",
       " ('쿠폰', 83),\n",
       " ('제', 82),\n",
       " ('저', 71),\n",
       " ('것', 69),\n",
       " ('테이블', 69),\n",
       " ('인테리어', 66),\n",
       " ('커튼', 55),\n",
       " ('수', 53),\n",
       " ('전', 50),\n",
       " ('종', 49),\n",
       " ('빈티', 47),\n",
       " ('때', 46),\n",
       " ('화이트', 45),\n",
       " ('판매', 43),\n",
       " ('방', 42),\n",
       " ('신고', 41),\n",
       " ('거실', 39),\n",
       " ('식물', 39),\n",
       " ('고객', 36),\n",
       " ('개월', 36),\n",
       " ('패', 35),\n",
       " ('브릭', 35),\n",
       " ('답글', 35),\n",
       " ('달기', 35),\n",
       " ('스탠드', 34),\n",
       " ('집들이', 33),\n",
       " ('이', 33),\n",
       " ('가구', 33)]"
      ]
     },
     "execution_count": 75,
     "metadata": {},
     "output_type": "execute_result"
    }
   ],
   "source": [
    "infp_file = open('/content/drive/MyDrive/Colab Notebooks/MBTI프로젝트/INFP.txt', encoding='utf8')\n",
    "infp = infp_file.read()\n",
    "\n",
    "infp_words = okt.nouns(infp)\n",
    "\n",
    "infp_count = Counter(infp_words)\n",
    "\n",
    "infp_count.most_common(30)"
   ]
  },
  {
   "cell_type": "code",
   "execution_count": 77,
   "metadata": {
    "executionInfo": {
     "elapsed": 2,
     "status": "ok",
     "timestamp": 1640569398830,
     "user": {
      "displayName": "용범",
      "photoUrl": "https://lh3.googleusercontent.com/a-/AOh14GiaZUHR2vehy-Jvi5j9KzPDwZAzaDiwXi5hKWbC=s64",
      "userId": "03054817850247331452"
     },
     "user_tz": -540
    },
    "id": "5cqUbthAEBed"
   },
   "outputs": [],
   "source": [
    "wordcount = {}\n",
    "# lower 소문자\n",
    "for word in infp_words:  \n",
    "    if word not in stopwords:\n",
    "        if word not in wordcount:\n",
    "            wordcount[word] = 1\n",
    "        else:\n",
    "            wordcount[word] += 1"
   ]
  },
  {
   "cell_type": "code",
   "execution_count": 78,
   "metadata": {
    "colab": {
     "base_uri": "https://localhost:8080/"
    },
    "executionInfo": {
     "elapsed": 2,
     "status": "ok",
     "timestamp": 1640569399191,
     "user": {
      "displayName": "용범",
      "photoUrl": "https://lh3.googleusercontent.com/a-/AOh14GiaZUHR2vehy-Jvi5j9KzPDwZAzaDiwXi5hKWbC=s64",
      "userId": "03054817850247331452"
     },
     "user_tz": -540
    },
    "id": "L-_ouD88EQIM",
    "outputId": "6a09d272-0caa-49b0-d4ec-21cc82aa3d07"
   },
   "outputs": [
    {
     "data": {
      "text/plain": [
       "[('커튼', 55),\n",
       " ('빈티', 47),\n",
       " ('화이트', 45),\n",
       " ('식물', 39),\n",
       " ('유리', 32),\n",
       " ('화병', 31),\n",
       " ('포스터', 28),\n",
       " ('감성', 23),\n",
       " ('가지', 23),\n",
       " ('원목', 22)]"
      ]
     },
     "execution_count": 78,
     "metadata": {},
     "output_type": "execute_result"
    }
   ],
   "source": [
    "sorted(wordcount.items(), key=lambda x: x[1], reverse=True)[:10]"
   ]
  },
  {
   "cell_type": "markdown",
   "metadata": {
    "id": "VrRSnaSAj72j"
   },
   "source": [
    "# INFJ"
   ]
  },
  {
   "cell_type": "code",
   "execution_count": 79,
   "metadata": {
    "colab": {
     "base_uri": "https://localhost:8080/"
    },
    "executionInfo": {
     "elapsed": 2420,
     "status": "ok",
     "timestamp": 1640569471143,
     "user": {
      "displayName": "용범",
      "photoUrl": "https://lh3.googleusercontent.com/a-/AOh14GiaZUHR2vehy-Jvi5j9KzPDwZAzaDiwXi5hKWbC=s64",
      "userId": "03054817850247331452"
     },
     "user_tz": -540
    },
    "id": "EdEA4z32EYqH",
    "outputId": "5d24ecdd-a94d-4455-fc0f-1fde8c021b4c"
   },
   "outputs": [
    {
     "data": {
      "text/plain": [
       "[('테이블', 134),\n",
       " ('집', 114),\n",
       " ('캔들', 101),\n",
       " ('커버', 97),\n",
       " ('쿠폰', 96),\n",
       " ('세트', 95),\n",
       " ('원형', 92),\n",
       " ('집들이', 91),\n",
       " ('포스터', 89),\n",
       " ('제', 89),\n",
       " ('인테리어', 85),\n",
       " ('스탠드', 80),\n",
       " ('벽', 79),\n",
       " ('카페', 75),\n",
       " ('빈티', 73),\n",
       " ('공간', 72),\n",
       " ('원목', 71),\n",
       " ('방', 71),\n",
       " ('것', 69),\n",
       " ('증정', 65),\n",
       " ('거울', 64),\n",
       " ('베개', 63),\n",
       " ('이불', 62),\n",
       " ('의자', 59),\n",
       " ('온라인', 58),\n",
       " ('저', 58),\n",
       " ('이벤트', 57),\n",
       " ('전구', 55),\n",
       " ('레트로', 55),\n",
       " ('터치', 54)]"
      ]
     },
     "execution_count": 79,
     "metadata": {},
     "output_type": "execute_result"
    }
   ],
   "source": [
    "infj_file = open('/content/drive/MyDrive/Colab Notebooks/MBTI프로젝트/INFJ.txt', encoding='utf8')\n",
    "infj = infj_file.read()\n",
    "\n",
    "infj_words = okt.nouns(infj)\n",
    "\n",
    "infj_count = Counter(infj_words)\n",
    "\n",
    "infj_count.most_common(30)"
   ]
  },
  {
   "cell_type": "code",
   "execution_count": 80,
   "metadata": {
    "executionInfo": {
     "elapsed": 268,
     "status": "ok",
     "timestamp": 1640569482019,
     "user": {
      "displayName": "용범",
      "photoUrl": "https://lh3.googleusercontent.com/a-/AOh14GiaZUHR2vehy-Jvi5j9KzPDwZAzaDiwXi5hKWbC=s64",
      "userId": "03054817850247331452"
     },
     "user_tz": -540
    },
    "id": "BbXTQJYWEgU8"
   },
   "outputs": [],
   "source": [
    "wordcount = {}\n",
    "# lower 소문자\n",
    "for word in infj_words:  \n",
    "    if word not in stopwords:\n",
    "        if word not in wordcount:\n",
    "            wordcount[word] = 1\n",
    "        else:\n",
    "            wordcount[word] += 1"
   ]
  },
  {
   "cell_type": "code",
   "execution_count": 81,
   "metadata": {
    "colab": {
     "base_uri": "https://localhost:8080/"
    },
    "executionInfo": {
     "elapsed": 2,
     "status": "ok",
     "timestamp": 1640569482319,
     "user": {
      "displayName": "용범",
      "photoUrl": "https://lh3.googleusercontent.com/a-/AOh14GiaZUHR2vehy-Jvi5j9KzPDwZAzaDiwXi5hKWbC=s64",
      "userId": "03054817850247331452"
     },
     "user_tz": -540
    },
    "id": "bu3YbuKFEhji",
    "outputId": "437caaac-de25-4ba5-b059-dbb8d7a04102"
   },
   "outputs": [
    {
     "data": {
      "text/plain": [
       "[('캔들', 101),\n",
       " ('포스터', 89),\n",
       " ('빈티', 73),\n",
       " ('원목', 71),\n",
       " ('거울', 64),\n",
       " ('레트로', 55),\n",
       " ('오로라', 52),\n",
       " ('엽서', 52),\n",
       " ('우드', 37),\n",
       " ('감성', 36)]"
      ]
     },
     "execution_count": 81,
     "metadata": {},
     "output_type": "execute_result"
    }
   ],
   "source": [
    "sorted(wordcount.items(), key=lambda x: x[1], reverse=True)[:20]"
   ]
  },
  {
   "cell_type": "markdown",
   "metadata": {
    "id": "S7AdgZF9kH4l"
   },
   "source": [
    "# ISFJ"
   ]
  },
  {
   "cell_type": "code",
   "execution_count": 82,
   "metadata": {
    "colab": {
     "base_uri": "https://localhost:8080/"
    },
    "executionInfo": {
     "elapsed": 1170,
     "status": "ok",
     "timestamp": 1640569535441,
     "user": {
      "displayName": "용범",
      "photoUrl": "https://lh3.googleusercontent.com/a-/AOh14GiaZUHR2vehy-Jvi5j9KzPDwZAzaDiwXi5hKWbC=s64",
      "userId": "03054817850247331452"
     },
     "user_tz": -540
    },
    "id": "x9l_Vag6GYDP",
    "outputId": "fc4835f8-ebf8-4d16-e79b-e05b90787901"
   },
   "outputs": [
    {
     "data": {
      "text/plain": [
       "[('수납', 60),\n",
       " ('쿠폰', 50),\n",
       " ('집', 48),\n",
       " ('컬러', 36),\n",
       " ('화이트', 36),\n",
       " ('공간', 35),\n",
       " ('테이블', 35),\n",
       " ('소파', 35),\n",
       " ('수', 35),\n",
       " ('오브', 34),\n",
       " ('거실', 34),\n",
       " ('아이', 34),\n",
       " ('컬렉션', 30),\n",
       " ('때', 27),\n",
       " ('선택', 27),\n",
       " ('스탠드', 25),\n",
       " ('저희', 24),\n",
       " ('원형', 24),\n",
       " ('의자', 24),\n",
       " ('시즌', 24),\n",
       " ('오프', 24),\n",
       " ('더', 24),\n",
       " ('함', 23),\n",
       " ('베이지', 22),\n",
       " ('사용', 22),\n",
       " ('것', 21),\n",
       " ('마루', 21),\n",
       " ('전', 20),\n",
       " ('모듈', 19),\n",
       " ('가구', 19)]"
      ]
     },
     "execution_count": 82,
     "metadata": {},
     "output_type": "execute_result"
    }
   ],
   "source": [
    "isfj_file = open('/content/drive/MyDrive/Colab Notebooks/MBTI프로젝트/ISFJ.txt', encoding='utf8')\n",
    "isfj = isfj_file.read()\n",
    "\n",
    "isfj_words = okt.nouns(isfj)\n",
    "\n",
    "isfj_count = Counter(isfj_words)\n",
    "\n",
    "isfj_count.most_common(30)"
   ]
  },
  {
   "cell_type": "code",
   "execution_count": 83,
   "metadata": {
    "executionInfo": {
     "elapsed": 286,
     "status": "ok",
     "timestamp": 1640569547322,
     "user": {
      "displayName": "용범",
      "photoUrl": "https://lh3.googleusercontent.com/a-/AOh14GiaZUHR2vehy-Jvi5j9KzPDwZAzaDiwXi5hKWbC=s64",
      "userId": "03054817850247331452"
     },
     "user_tz": -540
    },
    "id": "Nly0BdLTGkWr"
   },
   "outputs": [],
   "source": [
    "wordcount = {}\n",
    "# lower 소문자\n",
    "for word in isfj_words:  \n",
    "    if word not in stopwords:\n",
    "        if word not in wordcount:\n",
    "            wordcount[word] = 1\n",
    "        else:\n",
    "            wordcount[word] += 1"
   ]
  },
  {
   "cell_type": "code",
   "execution_count": 84,
   "metadata": {
    "colab": {
     "base_uri": "https://localhost:8080/"
    },
    "executionInfo": {
     "elapsed": 2,
     "status": "ok",
     "timestamp": 1640569547569,
     "user": {
      "displayName": "용범",
      "photoUrl": "https://lh3.googleusercontent.com/a-/AOh14GiaZUHR2vehy-Jvi5j9KzPDwZAzaDiwXi5hKWbC=s64",
      "userId": "03054817850247331452"
     },
     "user_tz": -540
    },
    "id": "aTFcuhpuGqba",
    "outputId": "121a58cf-b32b-4041-b801-57afeaab8392"
   },
   "outputs": [
    {
     "data": {
      "text/plain": [
       "[('화이트', 36),\n",
       " ('소파', 35),\n",
       " ('컬렉션', 30),\n",
       " ('선택', 27),\n",
       " ('베이지', 22),\n",
       " ('마루', 21),\n",
       " ('조명', 19),\n",
       " ('삼성', 18),\n",
       " ('캄포', 18),\n",
       " ('택', 17)]"
      ]
     },
     "execution_count": 84,
     "metadata": {},
     "output_type": "execute_result"
    }
   ],
   "source": [
    "sorted(wordcount.items(), key=lambda x: x[1], reverse=True)[:10]"
   ]
  },
  {
   "cell_type": "markdown",
   "metadata": {
    "id": "Gb7QG5s4kNf0"
   },
   "source": [
    "# ISTJ"
   ]
  },
  {
   "cell_type": "code",
   "execution_count": 85,
   "metadata": {
    "colab": {
     "base_uri": "https://localhost:8080/"
    },
    "executionInfo": {
     "elapsed": 857,
     "status": "ok",
     "timestamp": 1640569587111,
     "user": {
      "displayName": "용범",
      "photoUrl": "https://lh3.googleusercontent.com/a-/AOh14GiaZUHR2vehy-Jvi5j9KzPDwZAzaDiwXi5hKWbC=s64",
      "userId": "03054817850247331452"
     },
     "user_tz": -540
    },
    "id": "3jerzvyOIeL3",
    "outputId": "0dc071fa-9202-408d-862b-3c71e56f8fc6"
   },
   "outputs": [
    {
     "data": {
      "text/plain": [
       "[('아기', 58),\n",
       " ('우드', 32),\n",
       " ('집', 31),\n",
       " ('수납', 25),\n",
       " ('정리', 24),\n",
       " ('주방', 23),\n",
       " ('침대', 23),\n",
       " ('것', 23),\n",
       " ('식탁', 22),\n",
       " ('아이', 21),\n",
       " ('때', 21),\n",
       " ('함', 20),\n",
       " ('화이트', 20),\n",
       " ('매트', 19),\n",
       " ('박스', 19),\n",
       " ('원목', 18),\n",
       " ('서랍', 18),\n",
       " ('걸이', 18),\n",
       " ('컬러', 17),\n",
       " ('로', 16),\n",
       " ('트리', 16),\n",
       " ('방', 16),\n",
       " ('수', 15),\n",
       " ('팬', 15),\n",
       " ('거실', 15),\n",
       " ('저희', 14),\n",
       " ('전', 14),\n",
       " ('리', 13),\n",
       " ('베이지', 13),\n",
       " ('라운드', 13)]"
      ]
     },
     "execution_count": 85,
     "metadata": {},
     "output_type": "execute_result"
    }
   ],
   "source": [
    "istj_file = open('/content/drive/MyDrive/Colab Notebooks/MBTI프로젝트/ISTJ.txt', encoding='utf8')\n",
    "istj = istj_file.read()\n",
    "\n",
    "istj_words = okt.nouns(istj)\n",
    "\n",
    "istj_count = Counter(istj_words)\n",
    "\n",
    "istj_count.most_common(30)"
   ]
  },
  {
   "cell_type": "code",
   "execution_count": 86,
   "metadata": {
    "executionInfo": {
     "elapsed": 4,
     "status": "ok",
     "timestamp": 1640569595906,
     "user": {
      "displayName": "용범",
      "photoUrl": "https://lh3.googleusercontent.com/a-/AOh14GiaZUHR2vehy-Jvi5j9KzPDwZAzaDiwXi5hKWbC=s64",
      "userId": "03054817850247331452"
     },
     "user_tz": -540
    },
    "id": "w7BjV85nIoU3"
   },
   "outputs": [],
   "source": [
    "wordcount = {}\n",
    "# lower 소문자\n",
    "for word in istj_words:  \n",
    "    if word not in stopwords:\n",
    "        if word not in wordcount:\n",
    "            wordcount[word] = 1\n",
    "        else:\n",
    "            wordcount[word] += 1"
   ]
  },
  {
   "cell_type": "code",
   "execution_count": 87,
   "metadata": {
    "colab": {
     "base_uri": "https://localhost:8080/"
    },
    "executionInfo": {
     "elapsed": 3,
     "status": "ok",
     "timestamp": 1640569597008,
     "user": {
      "displayName": "용범",
      "photoUrl": "https://lh3.googleusercontent.com/a-/AOh14GiaZUHR2vehy-Jvi5j9KzPDwZAzaDiwXi5hKWbC=s64",
      "userId": "03054817850247331452"
     },
     "user_tz": -540
    },
    "id": "Waizt8zCIqDB",
    "outputId": "edf6068a-2908-447a-a110-c8897430c395"
   },
   "outputs": [
    {
     "data": {
      "text/plain": [
       "[('우드', 32),\n",
       " ('화이트', 20),\n",
       " ('원목', 18),\n",
       " ('리', 13),\n",
       " ('베이지', 13),\n",
       " ('라운드', 13),\n",
       " ('안방', 12),\n",
       " ('장', 11),\n",
       " ('러그', 11),\n",
       " ('감성', 10)]"
      ]
     },
     "execution_count": 87,
     "metadata": {},
     "output_type": "execute_result"
    }
   ],
   "source": [
    "sorted(wordcount.items(), key=lambda x: x[1], reverse=True)[:10]"
   ]
  },
  {
   "cell_type": "markdown",
   "metadata": {
    "id": "e8YaQ9a-kZef"
   },
   "source": [
    "# ESFJ"
   ]
  },
  {
   "cell_type": "code",
   "execution_count": 88,
   "metadata": {
    "colab": {
     "base_uri": "https://localhost:8080/"
    },
    "executionInfo": {
     "elapsed": 1225,
     "status": "ok",
     "timestamp": 1640569641101,
     "user": {
      "displayName": "용범",
      "photoUrl": "https://lh3.googleusercontent.com/a-/AOh14GiaZUHR2vehy-Jvi5j9KzPDwZAzaDiwXi5hKWbC=s64",
      "userId": "03054817850247331452"
     },
     "user_tz": -540
    },
    "id": "uT1eJl2hIsxi",
    "outputId": "f5c8d830-94ba-4731-e43a-e9986063d40f"
   },
   "outputs": [
    {
     "data": {
      "text/plain": [
       "[('집', 63),\n",
       " ('공간', 42),\n",
       " ('것', 40),\n",
       " ('인테리어', 37),\n",
       " ('수', 37),\n",
       " ('테이블', 34),\n",
       " ('쿠폰', 33),\n",
       " ('저', 30),\n",
       " ('등', 29),\n",
       " ('판매', 29),\n",
       " ('수납', 28),\n",
       " ('오늘', 24),\n",
       " ('화이트', 24),\n",
       " ('의자', 22),\n",
       " ('시공', 21),\n",
       " ('스탠드', 21),\n",
       " ('구매', 21),\n",
       " ('전', 20),\n",
       " ('시즌', 20),\n",
       " ('오프', 20),\n",
       " ('개', 20),\n",
       " ('주방', 20),\n",
       " ('고객', 18),\n",
       " ('집들이', 18),\n",
       " ('포장', 18),\n",
       " ('체어', 18),\n",
       " ('사용', 18),\n",
       " ('셀프', 17),\n",
       " ('제', 17),\n",
       " ('때', 17)]"
      ]
     },
     "execution_count": 88,
     "metadata": {},
     "output_type": "execute_result"
    }
   ],
   "source": [
    "esfj_file = open('/content/drive/MyDrive/Colab Notebooks/MBTI프로젝트/ESFJ.txt', encoding='utf8')\n",
    "esfj = esfj_file.read()\n",
    "\n",
    "esfj_words = okt.nouns(esfj)\n",
    "\n",
    "esfj_count = Counter(esfj_words)\n",
    "\n",
    "esfj_count.most_common(30)"
   ]
  },
  {
   "cell_type": "code",
   "execution_count": 89,
   "metadata": {
    "executionInfo": {
     "elapsed": 3,
     "status": "ok",
     "timestamp": 1640569651579,
     "user": {
      "displayName": "용범",
      "photoUrl": "https://lh3.googleusercontent.com/a-/AOh14GiaZUHR2vehy-Jvi5j9KzPDwZAzaDiwXi5hKWbC=s64",
      "userId": "03054817850247331452"
     },
     "user_tz": -540
    },
    "id": "vgjv8jWEKE8N"
   },
   "outputs": [],
   "source": [
    "wordcount = {}\n",
    "# lower 소문자\n",
    "for word in esfj_words:  \n",
    "    if word not in stopwords:\n",
    "        if word not in wordcount:\n",
    "            wordcount[word] = 1\n",
    "        else:\n",
    "            wordcount[word] += 1"
   ]
  },
  {
   "cell_type": "code",
   "execution_count": 90,
   "metadata": {
    "colab": {
     "base_uri": "https://localhost:8080/"
    },
    "executionInfo": {
     "elapsed": 2,
     "status": "ok",
     "timestamp": 1640569651579,
     "user": {
      "displayName": "용범",
      "photoUrl": "https://lh3.googleusercontent.com/a-/AOh14GiaZUHR2vehy-Jvi5j9KzPDwZAzaDiwXi5hKWbC=s64",
      "userId": "03054817850247331452"
     },
     "user_tz": -540
    },
    "id": "gXfcleLFKGFe",
    "outputId": "32f49208-f5e1-43a6-8e15-3f94dec395e7"
   },
   "outputs": [
    {
     "data": {
      "text/plain": [
       "[('화이트', 24),\n",
       " ('개', 20),\n",
       " ('화분', 16),\n",
       " ('원목', 16),\n",
       " ('맞춤', 16),\n",
       " ('우드', 16),\n",
       " ('행잉', 15),\n",
       " ('플랜트', 15),\n",
       " ('쇼파', 15),\n",
       " ('모던', 14)]"
      ]
     },
     "execution_count": 90,
     "metadata": {},
     "output_type": "execute_result"
    }
   ],
   "source": [
    "sorted(wordcount.items(), key=lambda x: x[1], reverse=True)[:10]"
   ]
  },
  {
   "cell_type": "markdown",
   "metadata": {
    "id": "nVxGoAR3kmxz"
   },
   "source": [
    "# ENTJ"
   ]
  },
  {
   "cell_type": "code",
   "execution_count": 91,
   "metadata": {
    "colab": {
     "base_uri": "https://localhost:8080/"
    },
    "executionInfo": {
     "elapsed": 948,
     "status": "ok",
     "timestamp": 1640569702167,
     "user": {
      "displayName": "용범",
      "photoUrl": "https://lh3.googleusercontent.com/a-/AOh14GiaZUHR2vehy-Jvi5j9KzPDwZAzaDiwXi5hKWbC=s64",
      "userId": "03054817850247331452"
     },
     "user_tz": -540
    },
    "id": "l58JGHVJK1Tg",
    "outputId": "24e6dc7c-a01a-4bf0-a1b0-cb0e5e0a166a"
   },
   "outputs": [
    {
     "data": {
      "text/plain": [
       "[('집', 57),\n",
       " ('아이', 45),\n",
       " ('공간', 41),\n",
       " ('쿠폰', 34),\n",
       " ('것', 33),\n",
       " ('수납', 31),\n",
       " ('수', 30),\n",
       " ('거실', 25),\n",
       " ('원목', 23),\n",
       " ('화이트', 20),\n",
       " ('원형', 20),\n",
       " ('스탠드', 20),\n",
       " ('꿈', 19),\n",
       " ('전', 18),\n",
       " ('증정', 18),\n",
       " ('집들이', 17),\n",
       " ('때', 17),\n",
       " ('세트', 17),\n",
       " ('우리', 16),\n",
       " ('더', 16),\n",
       " ('개월', 16),\n",
       " ('소파', 15),\n",
       " ('선반', 15),\n",
       " ('우드', 14),\n",
       " ('식탁', 14),\n",
       " ('판매', 14),\n",
       " ('인테리어', 13),\n",
       " ('고객', 13),\n",
       " ('장갑', 13),\n",
       " ('책장', 13)]"
      ]
     },
     "execution_count": 91,
     "metadata": {},
     "output_type": "execute_result"
    }
   ],
   "source": [
    "entj_file = open('/content/drive/MyDrive/Colab Notebooks/MBTI프로젝트/ENTJ.txt', encoding='utf8')\n",
    "entj = entj_file.read()\n",
    "\n",
    "entj_words = okt.nouns(entj)\n",
    "\n",
    "entj_count = Counter(entj_words)\n",
    "\n",
    "entj_count.most_common(30)"
   ]
  },
  {
   "cell_type": "code",
   "execution_count": 92,
   "metadata": {
    "executionInfo": {
     "elapsed": 266,
     "status": "ok",
     "timestamp": 1640569715376,
     "user": {
      "displayName": "용범",
      "photoUrl": "https://lh3.googleusercontent.com/a-/AOh14GiaZUHR2vehy-Jvi5j9KzPDwZAzaDiwXi5hKWbC=s64",
      "userId": "03054817850247331452"
     },
     "user_tz": -540
    },
    "id": "tuxZJhxGK6sN"
   },
   "outputs": [],
   "source": [
    "wordcount = {}\n",
    "# lower 소문자\n",
    "for word in entj_words:  \n",
    "    if word not in stopwords:\n",
    "        if word not in wordcount:\n",
    "            wordcount[word] = 1\n",
    "        else:\n",
    "            wordcount[word] += 1"
   ]
  },
  {
   "cell_type": "code",
   "execution_count": 93,
   "metadata": {
    "colab": {
     "base_uri": "https://localhost:8080/"
    },
    "executionInfo": {
     "elapsed": 2,
     "status": "ok",
     "timestamp": 1640569715741,
     "user": {
      "displayName": "용범",
      "photoUrl": "https://lh3.googleusercontent.com/a-/AOh14GiaZUHR2vehy-Jvi5j9KzPDwZAzaDiwXi5hKWbC=s64",
      "userId": "03054817850247331452"
     },
     "user_tz": -540
    },
    "id": "8-O0MhNmK8gX",
    "outputId": "3331132d-953c-47db-c1c6-435d6e8d5d1e"
   },
   "outputs": [
    {
     "data": {
      "text/plain": [
       "[('원목', 23),\n",
       " ('화이트', 20),\n",
       " ('꿈', 19),\n",
       " ('우리', 16),\n",
       " ('소파', 15),\n",
       " ('우드', 14),\n",
       " ('장갑', 13),\n",
       " ('거울', 13),\n",
       " ('랙', 12),\n",
       " ('가장', 12)]"
      ]
     },
     "execution_count": 93,
     "metadata": {},
     "output_type": "execute_result"
    }
   ],
   "source": [
    "sorted(wordcount.items(), key=lambda x: x[1], reverse=True)[:10]"
   ]
  },
  {
   "cell_type": "markdown",
   "metadata": {
    "id": "2i-kal9gk1OS"
   },
   "source": [
    "# ESFP"
   ]
  },
  {
   "cell_type": "code",
   "execution_count": 94,
   "metadata": {
    "colab": {
     "base_uri": "https://localhost:8080/"
    },
    "executionInfo": {
     "elapsed": 675,
     "status": "ok",
     "timestamp": 1640569752131,
     "user": {
      "displayName": "용범",
      "photoUrl": "https://lh3.googleusercontent.com/a-/AOh14GiaZUHR2vehy-Jvi5j9KzPDwZAzaDiwXi5hKWbC=s64",
      "userId": "03054817850247331452"
     },
     "user_tz": -540
    },
    "id": "oaXKlMuuLi3H",
    "outputId": "b0cabeb2-d349-4261-c1e6-d6b7b210097f"
   },
   "outputs": [
    {
     "data": {
      "text/plain": [
       "[('해외', 33),\n",
       " ('화이트', 26),\n",
       " ('집', 18),\n",
       " ('주방', 17),\n",
       " ('거실', 16),\n",
       " ('수', 15),\n",
       " ('공간', 11),\n",
       " ('테이블', 11),\n",
       " ('뷰', 9),\n",
       " ('가장', 9),\n",
       " ('조화', 9),\n",
       " ('거울', 9),\n",
       " ('때', 8),\n",
       " ('톤', 8),\n",
       " ('미니', 7),\n",
       " ('조명', 7),\n",
       " ('현관', 7),\n",
       " ('소파', 7),\n",
       " ('저희', 7),\n",
       " ('골드', 7),\n",
       " ('의자', 7),\n",
       " ('판매', 7),\n",
       " ('인테리어', 6),\n",
       " ('고객', 6),\n",
       " ('남편', 6),\n",
       " ('개월', 6),\n",
       " ('창문', 6),\n",
       " ('것', 6),\n",
       " ('스타', 6),\n",
       " ('액자', 6)]"
      ]
     },
     "execution_count": 94,
     "metadata": {},
     "output_type": "execute_result"
    }
   ],
   "source": [
    "esfp_file = open('/content/drive/MyDrive/Colab Notebooks/MBTI프로젝트/ESFP.txt', encoding='utf8')\n",
    "esfp = esfp_file.read()\n",
    "\n",
    "esfp_words = okt.nouns(esfp)\n",
    "\n",
    "esfp_count = Counter(esfp_words)\n",
    "\n",
    "esfp_count.most_common(30)"
   ]
  },
  {
   "cell_type": "code",
   "execution_count": 95,
   "metadata": {
    "executionInfo": {
     "elapsed": 3,
     "status": "ok",
     "timestamp": 1640569760641,
     "user": {
      "displayName": "용범",
      "photoUrl": "https://lh3.googleusercontent.com/a-/AOh14GiaZUHR2vehy-Jvi5j9KzPDwZAzaDiwXi5hKWbC=s64",
      "userId": "03054817850247331452"
     },
     "user_tz": -540
    },
    "id": "pZ5Um7Z6LpHf"
   },
   "outputs": [],
   "source": [
    "wordcount = {}\n",
    "# lower 소문자\n",
    "for word in esfp_words:  \n",
    "    if word not in stopwords:\n",
    "        if word not in wordcount:\n",
    "            wordcount[word] = 1\n",
    "        else:\n",
    "            wordcount[word] += 1"
   ]
  },
  {
   "cell_type": "code",
   "execution_count": 96,
   "metadata": {
    "colab": {
     "base_uri": "https://localhost:8080/"
    },
    "executionInfo": {
     "elapsed": 2,
     "status": "ok",
     "timestamp": 1640569761472,
     "user": {
      "displayName": "용범",
      "photoUrl": "https://lh3.googleusercontent.com/a-/AOh14GiaZUHR2vehy-Jvi5j9KzPDwZAzaDiwXi5hKWbC=s64",
      "userId": "03054817850247331452"
     },
     "user_tz": -540
    },
    "id": "xsi13DyiLqMX",
    "outputId": "ce1f1cec-9d67-4603-d5d3-cd3a1e36ede6"
   },
   "outputs": [
    {
     "data": {
      "text/plain": [
       "[('화이트', 26),\n",
       " ('뷰', 9),\n",
       " ('가장', 9),\n",
       " ('거울', 9),\n",
       " ('톤', 8),\n",
       " ('미니', 7),\n",
       " ('조명', 7),\n",
       " ('소파', 7),\n",
       " ('골드', 7),\n",
       " ('남편', 6)]"
      ]
     },
     "execution_count": 96,
     "metadata": {},
     "output_type": "execute_result"
    }
   ],
   "source": [
    "sorted(wordcount.items(), key=lambda x: x[1], reverse=True)[:10]"
   ]
  },
  {
   "cell_type": "markdown",
   "metadata": {
    "id": "NanxEd9LlCYv"
   },
   "source": [
    "# ENFP"
   ]
  },
  {
   "cell_type": "code",
   "execution_count": 97,
   "metadata": {
    "colab": {
     "base_uri": "https://localhost:8080/"
    },
    "executionInfo": {
     "elapsed": 1390,
     "status": "ok",
     "timestamp": 1640569783369,
     "user": {
      "displayName": "용범",
      "photoUrl": "https://lh3.googleusercontent.com/a-/AOh14GiaZUHR2vehy-Jvi5j9KzPDwZAzaDiwXi5hKWbC=s64",
      "userId": "03054817850247331452"
     },
     "user_tz": -540
    },
    "id": "UpvFYZZYg5m9",
    "outputId": "85f6334d-ace0-4135-cf30-0da678ca169a"
   },
   "outputs": [
    {
     "data": {
      "text/plain": [
       "[('해외', 86),\n",
       " ('것', 72),\n",
       " ('화이트', 66),\n",
       " ('저', 64),\n",
       " ('제', 64),\n",
       " ('테이블', 62),\n",
       " ('집', 60),\n",
       " ('쿠폰', 53),\n",
       " ('공간', 50),\n",
       " ('커튼', 45),\n",
       " ('세트', 43),\n",
       " ('스탠드', 42),\n",
       " ('사용', 38),\n",
       " ('방', 37),\n",
       " ('원형', 36),\n",
       " ('인테리어', 32),\n",
       " ('때', 32),\n",
       " ('수', 32),\n",
       " ('수납', 31),\n",
       " ('이', 30),\n",
       " ('유리', 29),\n",
       " ('블랙', 29),\n",
       " ('종', 28),\n",
       " ('커버', 28),\n",
       " ('거실', 26),\n",
       " ('가구', 26),\n",
       " ('이불', 26),\n",
       " ('원목', 25),\n",
       " ('미니', 25),\n",
       " ('마네킹', 25)]"
      ]
     },
     "execution_count": 97,
     "metadata": {},
     "output_type": "execute_result"
    }
   ],
   "source": [
    "enfp_file = open('/content/drive/MyDrive/Colab Notebooks/MBTI프로젝트/enfp.txt', encoding='utf8')\n",
    "enfp = enfp_file.read()\n",
    "# enfp\n",
    "enfp_words = okt.nouns(enfp)\n",
    "# enfp_words\n",
    "\n",
    "enfp_count = Counter(enfp_words)\n",
    "# enfp_count\n",
    "\n",
    "enfp_count.most_common(30)"
   ]
  },
  {
   "cell_type": "code",
   "execution_count": 98,
   "metadata": {
    "executionInfo": {
     "elapsed": 410,
     "status": "ok",
     "timestamp": 1640569783776,
     "user": {
      "displayName": "용범",
      "photoUrl": "https://lh3.googleusercontent.com/a-/AOh14GiaZUHR2vehy-Jvi5j9KzPDwZAzaDiwXi5hKWbC=s64",
      "userId": "03054817850247331452"
     },
     "user_tz": -540
    },
    "id": "GZtwv5Ibg51b"
   },
   "outputs": [],
   "source": [
    "wordcount = {}\n",
    "# lower 소문자\n",
    "for word in enfp_words:  \n",
    "    if word not in stopwords:\n",
    "        if word not in wordcount:\n",
    "            wordcount[word] = 1\n",
    "        else:\n",
    "            wordcount[word] += 1"
   ]
  },
  {
   "cell_type": "code",
   "execution_count": 99,
   "metadata": {
    "colab": {
     "base_uri": "https://localhost:8080/"
    },
    "executionInfo": {
     "elapsed": 2,
     "status": "ok",
     "timestamp": 1640569784035,
     "user": {
      "displayName": "용범",
      "photoUrl": "https://lh3.googleusercontent.com/a-/AOh14GiaZUHR2vehy-Jvi5j9KzPDwZAzaDiwXi5hKWbC=s64",
      "userId": "03054817850247331452"
     },
     "user_tz": -540
    },
    "id": "bIWHIftZg8qi",
    "outputId": "9a7329ab-cb0a-4d7f-e863-fab86ab430a0"
   },
   "outputs": [
    {
     "data": {
      "text/plain": [
       "[('화이트', 66),\n",
       " ('커튼', 45),\n",
       " ('유리', 29),\n",
       " ('블랙', 29),\n",
       " ('원목', 25),\n",
       " ('미니', 25),\n",
       " ('마네킹', 25),\n",
       " ('요', 23),\n",
       " ('액자', 23),\n",
       " ('조명', 22)]"
      ]
     },
     "execution_count": 99,
     "metadata": {},
     "output_type": "execute_result"
    }
   ],
   "source": [
    "sorted(wordcount.items(), key=lambda x: x[1], reverse=True)[:10]"
   ]
  },
  {
   "cell_type": "markdown",
   "metadata": {
    "id": "ljnuaii1lFRY"
   },
   "source": [
    "# ISTP"
   ]
  },
  {
   "cell_type": "code",
   "execution_count": 100,
   "metadata": {
    "colab": {
     "base_uri": "https://localhost:8080/"
    },
    "executionInfo": {
     "elapsed": 637,
     "status": "ok",
     "timestamp": 1640569801315,
     "user": {
      "displayName": "용범",
      "photoUrl": "https://lh3.googleusercontent.com/a-/AOh14GiaZUHR2vehy-Jvi5j9KzPDwZAzaDiwXi5hKWbC=s64",
      "userId": "03054817850247331452"
     },
     "user_tz": -540
    },
    "id": "zfAbLhDDh2lr",
    "outputId": "70ff3372-8020-4de2-a907-a790121c9f35"
   },
   "outputs": [
    {
     "data": {
      "text/plain": [
       "[('공간', 53),\n",
       " ('거실', 36),\n",
       " ('화이트', 35),\n",
       " ('테이블', 33),\n",
       " ('의자', 31),\n",
       " ('원목', 30),\n",
       " ('브릭', 29),\n",
       " ('집', 27),\n",
       " ('제', 26),\n",
       " ('쿠폰', 26),\n",
       " ('블랙', 26),\n",
       " ('패', 25),\n",
       " ('소파', 23),\n",
       " ('커튼', 22),\n",
       " ('것', 20),\n",
       " ('저', 20),\n",
       " ('주방', 20),\n",
       " ('스툴', 19),\n",
       " ('접이식', 18),\n",
       " ('협탁', 17),\n",
       " ('복층', 16),\n",
       " ('해외', 16),\n",
       " ('전시', 16),\n",
       " ('화병', 16),\n",
       " ('침실', 16),\n",
       " ('컬러', 15),\n",
       " ('미니', 14),\n",
       " ('정말', 14),\n",
       " ('빔', 13),\n",
       " ('매트리스', 13)]"
      ]
     },
     "execution_count": 100,
     "metadata": {},
     "output_type": "execute_result"
    }
   ],
   "source": [
    "istp_file = open('/content/drive/MyDrive/Colab Notebooks/MBTI프로젝트/istp.txt', encoding='utf8')\n",
    "istp = istp_file.read()\n",
    "# istp\n",
    "istp_words = okt.nouns(istp)\n",
    "# istp_words\n",
    "\n",
    "istp_count = Counter(istp_words)\n",
    "# istp_count\n",
    "\n",
    "istp_count.most_common(30)"
   ]
  },
  {
   "cell_type": "code",
   "execution_count": 101,
   "metadata": {
    "executionInfo": {
     "elapsed": 282,
     "status": "ok",
     "timestamp": 1640569804166,
     "user": {
      "displayName": "용범",
      "photoUrl": "https://lh3.googleusercontent.com/a-/AOh14GiaZUHR2vehy-Jvi5j9KzPDwZAzaDiwXi5hKWbC=s64",
      "userId": "03054817850247331452"
     },
     "user_tz": -540
    },
    "id": "LBXu7h0lh7IQ"
   },
   "outputs": [],
   "source": [
    "wordcount = {}\n",
    "# lower 소문자\n",
    "for word in istp_words:  \n",
    "    if word not in stopwords:\n",
    "        if word not in wordcount:\n",
    "            wordcount[word] = 1\n",
    "        else:\n",
    "            wordcount[word] += 1"
   ]
  },
  {
   "cell_type": "code",
   "execution_count": 102,
   "metadata": {
    "colab": {
     "base_uri": "https://localhost:8080/"
    },
    "executionInfo": {
     "elapsed": 3,
     "status": "ok",
     "timestamp": 1640569804425,
     "user": {
      "displayName": "용범",
      "photoUrl": "https://lh3.googleusercontent.com/a-/AOh14GiaZUHR2vehy-Jvi5j9KzPDwZAzaDiwXi5hKWbC=s64",
      "userId": "03054817850247331452"
     },
     "user_tz": -540
    },
    "id": "LgUocMHIh9N6",
    "outputId": "b2332c50-72ac-4b61-c875-876b75ff5574"
   },
   "outputs": [
    {
     "data": {
      "text/plain": [
       "[('화이트', 35),\n",
       " ('원목', 30),\n",
       " ('블랙', 26),\n",
       " ('소파', 23),\n",
       " ('커튼', 22),\n",
       " ('스툴', 19),\n",
       " ('협탁', 17),\n",
       " ('복층', 16),\n",
       " ('전시', 16),\n",
       " ('화병', 16)]"
      ]
     },
     "execution_count": 102,
     "metadata": {},
     "output_type": "execute_result"
    }
   ],
   "source": [
    "sorted(wordcount.items(), key=lambda x: x[1], reverse=True)[:10]"
   ]
  },
  {
   "cell_type": "markdown",
   "metadata": {
    "id": "2CqsYX81lJ8G"
   },
   "source": [
    "# ENTP"
   ]
  },
  {
   "cell_type": "code",
   "execution_count": 103,
   "metadata": {
    "colab": {
     "base_uri": "https://localhost:8080/"
    },
    "executionInfo": {
     "elapsed": 672,
     "status": "ok",
     "timestamp": 1640569860872,
     "user": {
      "displayName": "용범",
      "photoUrl": "https://lh3.googleusercontent.com/a-/AOh14GiaZUHR2vehy-Jvi5j9KzPDwZAzaDiwXi5hKWbC=s64",
      "userId": "03054817850247331452"
     },
     "user_tz": -540
    },
    "id": "Zia2d44ciAav",
    "outputId": "e58156ad-abd3-482d-c40b-9f3e7ba1871d"
   },
   "outputs": [
    {
     "data": {
      "text/plain": [
       "[('타일', 65),\n",
       " ('크리스마스', 37),\n",
       " ('저', 33),\n",
       " ('트리', 25),\n",
       " ('수', 23),\n",
       " ('것', 22),\n",
       " ('장식', 21),\n",
       " ('테이블', 20),\n",
       " ('전구', 19),\n",
       " ('컬러', 18),\n",
       " ('조명', 18),\n",
       " ('본드', 18),\n",
       " ('집', 17),\n",
       " ('파티', 17),\n",
       " ('골드', 17),\n",
       " ('커튼', 17),\n",
       " ('소품', 17),\n",
       " ('거', 15),\n",
       " ('사용', 15),\n",
       " ('소켓', 15),\n",
       " ('먼트', 14),\n",
       " ('키', 14),\n",
       " ('모자이크', 14),\n",
       " ('더', 13),\n",
       " ('활용', 13),\n",
       " ('목재', 12),\n",
       " ('화이트', 12),\n",
       " ('산타', 12),\n",
       " ('만들기', 11),\n",
       " ('스타', 11)]"
      ]
     },
     "execution_count": 103,
     "metadata": {},
     "output_type": "execute_result"
    }
   ],
   "source": [
    "entp_file = open('/content/drive/MyDrive/Colab Notebooks/MBTI프로젝트/entp.txt', encoding='utf8')\n",
    "entp = entp_file.read()\n",
    "\n",
    "entp_words = okt.nouns(entp)\n",
    "\n",
    "\n",
    "entp_count = Counter(entp_words)\n",
    "\n",
    "entp_count.most_common(30)"
   ]
  },
  {
   "cell_type": "code",
   "execution_count": 104,
   "metadata": {
    "executionInfo": {
     "elapsed": 3,
     "status": "ok",
     "timestamp": 1640569860873,
     "user": {
      "displayName": "용범",
      "photoUrl": "https://lh3.googleusercontent.com/a-/AOh14GiaZUHR2vehy-Jvi5j9KzPDwZAzaDiwXi5hKWbC=s64",
      "userId": "03054817850247331452"
     },
     "user_tz": -540
    },
    "id": "iXzVIGhZiG-b"
   },
   "outputs": [],
   "source": [
    "wordcount = {}\n",
    "# lower 소문자\n",
    "for word in entp_words:  \n",
    "    if word not in stopwords:\n",
    "        if word not in wordcount:\n",
    "            wordcount[word] = 1\n",
    "        else:\n",
    "            wordcount[word] += 1"
   ]
  },
  {
   "cell_type": "code",
   "execution_count": 105,
   "metadata": {
    "colab": {
     "base_uri": "https://localhost:8080/"
    },
    "executionInfo": {
     "elapsed": 4,
     "status": "ok",
     "timestamp": 1640569861134,
     "user": {
      "displayName": "용범",
      "photoUrl": "https://lh3.googleusercontent.com/a-/AOh14GiaZUHR2vehy-Jvi5j9KzPDwZAzaDiwXi5hKWbC=s64",
      "userId": "03054817850247331452"
     },
     "user_tz": -540
    },
    "id": "cED4L0FRiJFs",
    "outputId": "612fac11-56ac-4e26-9f66-9ef80099309b"
   },
   "outputs": [
    {
     "data": {
      "text/plain": [
       "[('타일', 65),\n",
       " ('크리스마스', 37),\n",
       " ('장식', 21),\n",
       " ('조명', 18),\n",
       " ('본드', 18),\n",
       " ('파티', 17),\n",
       " ('골드', 17),\n",
       " ('커튼', 17),\n",
       " ('소켓', 15),\n",
       " ('먼트', 14)]"
      ]
     },
     "execution_count": 105,
     "metadata": {},
     "output_type": "execute_result"
    }
   ],
   "source": [
    "sorted(wordcount.items(), key=lambda x: x[1], reverse=True)[:10]"
   ]
  },
  {
   "cell_type": "code",
   "execution_count": null,
   "metadata": {
    "id": "xI4YGeg9iKaO"
   },
   "outputs": [],
   "source": []
  }
 ],
 "metadata": {
  "colab": {
   "authorship_tag": "ABX9TyPTHNoK0Cho4L+kfjdojFB6",
   "collapsed_sections": [],
   "mount_file_id": "1gpYhvf4x_eHht-LOmB4eRbcxcPdqJLmj",
   "name": "MBTI_자연어.ipynb",
   "provenance": []
  },
  "kernelspec": {
   "display_name": "Python 3",
   "language": "python",
   "name": "python3"
  },
  "language_info": {
   "codemirror_mode": {
    "name": "ipython",
    "version": 3
   },
   "file_extension": ".py",
   "mimetype": "text/x-python",
   "name": "python",
   "nbconvert_exporter": "python",
   "pygments_lexer": "ipython3",
   "version": "3.8.8"
  }
 },
 "nbformat": 4,
 "nbformat_minor": 1
}
